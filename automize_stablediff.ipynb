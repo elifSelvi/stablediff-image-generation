{
  "nbformat": 4,
  "nbformat_minor": 0,
  "metadata": {
    "colab": {
      "provenance": [],
      "gpuType": "T4"
    },
    "kernelspec": {
      "name": "python3",
      "display_name": "Python 3"
    },
    "language_info": {
      "name": "python"
    },
    "accelerator": "GPU"
  },
  "cells": [
    {
      "cell_type": "code",
      "source": [
        "#stable diffusion part\n",
        "%pip install --quiet --upgrade diffusers transformers scipy mediapy accelerate"
      ],
      "metadata": {
        "id": "HP1CIdqQieId"
      },
      "execution_count": null,
      "outputs": []
    },
    {
      "cell_type": "code",
      "source": [
        "#huggingface token must be entered\n",
        "!huggingface-cli login"
      ],
      "metadata": {
        "id": "QnSXV-qRifr7"
      },
      "execution_count": null,
      "outputs": []
    },
    {
      "cell_type": "code",
      "source": [
        "#imports\n",
        "import json\n",
        "import os\n",
        "import shutil\n",
        "import re\n",
        "from diffusers import StableDiffusionPipeline\n",
        "import mediapy as media\n",
        "import torch\n",
        "from torch import autocast\n",
        "from IPython.display import Image"
      ],
      "metadata": {
        "id": "DCgww7p3WIfL"
      },
      "execution_count": 3,
      "outputs": []
    },
    {
      "cell_type": "code",
      "source": [
        "from google.colab import drive\n",
        "import os\n",
        "\n",
        "#go to drive\n",
        "drive.mount('/content/drive')\n",
        "\n",
        "# set root folder path as stablediffautomation folder inside MyDrive\n",
        "root_folder = '/content/drive/MyDrive/stablediffautomation'\n",
        "\n",
        "# path to the data folder inside root folder\n",
        "data_folder = os.path.join(root_folder, 'data')"
      ],
      "metadata": {
        "id": "R3A7eHsHYTVz"
      },
      "execution_count": null,
      "outputs": []
    },
    {
      "cell_type": "code",
      "execution_count": 5,
      "metadata": {
        "id": "OTSrY-D66-R9"
      },
      "outputs": [],
      "source": [
        "def splitValseData(data_folder):\n",
        "\n",
        "  #caption_pattern = r'\"caption\":\\s*\"(([^\"]*))\"'\n",
        "  #foil_pattern = r'\"foil\":\\s*\"(([^\"]*))\"'\n",
        "\n",
        "  dict_captions_all={}   \n",
        "  dict_foils_all={}\n",
        "  \n",
        "\n",
        "  # get the list of JSON files in the data folder\n",
        "  json_files = [f for f in os.listdir(data_folder) if f.endswith('.json')]\n",
        "\n",
        "\n",
        "  for json_file in json_files:\n",
        "      # create a folder to hold stable diff images according to the classes\n",
        "      folder_name = json_file[:-5]  # remove the '.json' extension\n",
        "      folder_path = os.path.join(data_folder, folder_name)\n",
        "      os.makedirs(folder_path, exist_ok=True)\n",
        "\n",
        "\n",
        "      dict_captions_all[folder_name]=[] \n",
        "      dict_foils_all[folder_name]=[] \n",
        "      \n",
        "      json_path = os.path.join(data_folder, json_file)\n",
        "      with open(json_path) as f:\n",
        "        data = json.load(f)\n",
        "\n",
        "        #split caption and foils of each class\n",
        "        for i in data:\n",
        "          dict_captions_all[folder_name].append(data[i][\"caption\"])\n",
        "          dict_foils_all[folder_name].append(data[i][\"foil\"])\n",
        "  \n",
        "  return dict_captions_all, dict_foils_all\n",
        "\n",
        "\n",
        "dict_captions_all, dict_foils_all = splitValseData(data_folder)"
      ]
    },
    {
      "cell_type": "code",
      "source": [
        "def stableDiffImg(file_path,prompt_sentence):\n",
        "\n",
        "  model_id = \"runwayml/stable-diffusion-v1-5\"\n",
        "  pipe = StableDiffusionPipeline.from_pretrained(model_id, torch_dtype=torch.float16)\n",
        "  pipe = pipe.to(\"cuda\")\n",
        "\n",
        "  prompt = prompt_sentence\n",
        "  image = pipe(prompt).images[0]  \n",
        "\n",
        "  # create directory if it doesn't exist\n",
        "  os.makedirs(os.path.dirname(file_path), exist_ok=True)\n",
        "\n",
        "  image.save(file_path)\n",
        "  print(\"Image saved in: \"+str(file_path))\n"
      ],
      "metadata": {
        "id": "Rxi4LAEvhDIM"
      },
      "execution_count": 6,
      "outputs": []
    },
    {
      "cell_type": "code",
      "source": [
        "#generate image for all captions of each class\n",
        "for i in dict_captions_all:\n",
        "  for j in dict_captions_all[i]:\n",
        "    file_path = os.path.join(data_folder+\"/\"+i, \"caption\", j + '.png')\n",
        "    #if image exist dont generate again, if you want multiple images of the same caption hold a counter etc.\n",
        "    if os.path.exists(file_path):\n",
        "      continue\n",
        "    stableDiffImg(file_path,j)\n",
        "\n",
        "#generate image for all foils of each class\n",
        "for i in dict_foils_all:\n",
        "  for j in dict_foils_all[i]:\n",
        "    file_path = os.path.join(data_folder+\"/\"+i, \"foil\", j + '.png')\n",
        "    if os.path.exists(file_path):\n",
        "      continue\n",
        "    stableDiffImg(file_path,j)"
      ],
      "metadata": {
        "id": "KwZR7xIoiBHU"
      },
      "execution_count": null,
      "outputs": []
    }
  ]
}